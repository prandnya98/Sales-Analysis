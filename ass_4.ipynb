{
 "cells": [
  {
   "cell_type": "code",
   "execution_count": 1,
   "id": "7af324e8-74dd-4dc1-8fd1-936397f4da8b",
   "metadata": {},
   "outputs": [],
   "source": [
    "#DATA WRAGGLING"
   ]
  },
  {
   "cell_type": "code",
   "execution_count": 2,
   "id": "83a107c5-2bff-4ad8-bd8b-f065490594a3",
   "metadata": {},
   "outputs": [],
   "source": [
    "import pandas as pd\n",
    "import numpy as np"
   ]
  },
  {
   "cell_type": "code",
   "execution_count": 3,
   "id": "b59a1eec-a53d-46e4-a3c9-6039368cfba1",
   "metadata": {},
   "outputs": [],
   "source": [
    "sale_data = pd.read_csv('AusApparalSales4thQrt2020.csv')"
   ]
  },
  {
   "cell_type": "code",
   "execution_count": 4,
   "id": "dfd10c97-7f7b-49a1-a4fe-cadfc54c116e",
   "metadata": {},
   "outputs": [
    {
     "data": {
      "text/html": [
       "<div>\n",
       "<style scoped>\n",
       "    .dataframe tbody tr th:only-of-type {\n",
       "        vertical-align: middle;\n",
       "    }\n",
       "\n",
       "    .dataframe tbody tr th {\n",
       "        vertical-align: top;\n",
       "    }\n",
       "\n",
       "    .dataframe thead th {\n",
       "        text-align: right;\n",
       "    }\n",
       "</style>\n",
       "<table border=\"1\" class=\"dataframe\">\n",
       "  <thead>\n",
       "    <tr style=\"text-align: right;\">\n",
       "      <th></th>\n",
       "      <th>Date</th>\n",
       "      <th>Time</th>\n",
       "      <th>State</th>\n",
       "      <th>Group</th>\n",
       "      <th>Unit</th>\n",
       "      <th>Sales</th>\n",
       "    </tr>\n",
       "  </thead>\n",
       "  <tbody>\n",
       "    <tr>\n",
       "      <th>0</th>\n",
       "      <td>1-Oct-2020</td>\n",
       "      <td>Morning</td>\n",
       "      <td>WA</td>\n",
       "      <td>Kids</td>\n",
       "      <td>8</td>\n",
       "      <td>20000</td>\n",
       "    </tr>\n",
       "    <tr>\n",
       "      <th>1</th>\n",
       "      <td>1-Oct-2020</td>\n",
       "      <td>Morning</td>\n",
       "      <td>WA</td>\n",
       "      <td>Men</td>\n",
       "      <td>8</td>\n",
       "      <td>20000</td>\n",
       "    </tr>\n",
       "    <tr>\n",
       "      <th>2</th>\n",
       "      <td>1-Oct-2020</td>\n",
       "      <td>Morning</td>\n",
       "      <td>WA</td>\n",
       "      <td>Women</td>\n",
       "      <td>4</td>\n",
       "      <td>10000</td>\n",
       "    </tr>\n",
       "    <tr>\n",
       "      <th>3</th>\n",
       "      <td>1-Oct-2020</td>\n",
       "      <td>Morning</td>\n",
       "      <td>WA</td>\n",
       "      <td>Seniors</td>\n",
       "      <td>15</td>\n",
       "      <td>37500</td>\n",
       "    </tr>\n",
       "    <tr>\n",
       "      <th>4</th>\n",
       "      <td>1-Oct-2020</td>\n",
       "      <td>Afternoon</td>\n",
       "      <td>WA</td>\n",
       "      <td>Kids</td>\n",
       "      <td>3</td>\n",
       "      <td>7500</td>\n",
       "    </tr>\n",
       "  </tbody>\n",
       "</table>\n",
       "</div>"
      ],
      "text/plain": [
       "         Date        Time State     Group  Unit  Sales\n",
       "0  1-Oct-2020     Morning    WA      Kids     8  20000\n",
       "1  1-Oct-2020     Morning    WA       Men     8  20000\n",
       "2  1-Oct-2020     Morning    WA     Women     4  10000\n",
       "3  1-Oct-2020     Morning    WA   Seniors    15  37500\n",
       "4  1-Oct-2020   Afternoon    WA      Kids     3   7500"
      ]
     },
     "execution_count": 4,
     "metadata": {},
     "output_type": "execute_result"
    }
   ],
   "source": [
    "sale_data.head()"
   ]
  },
  {
   "cell_type": "code",
   "execution_count": 5,
   "id": "b2c330b0-1b22-4ed6-b0f9-508aa6eab144",
   "metadata": {},
   "outputs": [
    {
     "data": {
      "text/html": [
       "<div>\n",
       "<style scoped>\n",
       "    .dataframe tbody tr th:only-of-type {\n",
       "        vertical-align: middle;\n",
       "    }\n",
       "\n",
       "    .dataframe tbody tr th {\n",
       "        vertical-align: top;\n",
       "    }\n",
       "\n",
       "    .dataframe thead th {\n",
       "        text-align: right;\n",
       "    }\n",
       "</style>\n",
       "<table border=\"1\" class=\"dataframe\">\n",
       "  <thead>\n",
       "    <tr style=\"text-align: right;\">\n",
       "      <th></th>\n",
       "      <th>Date</th>\n",
       "      <th>Time</th>\n",
       "      <th>State</th>\n",
       "      <th>Group</th>\n",
       "      <th>Unit</th>\n",
       "      <th>Sales</th>\n",
       "    </tr>\n",
       "  </thead>\n",
       "  <tbody>\n",
       "    <tr>\n",
       "      <th>7555</th>\n",
       "      <td>30-Dec-2020</td>\n",
       "      <td>Afternoon</td>\n",
       "      <td>TAS</td>\n",
       "      <td>Seniors</td>\n",
       "      <td>14</td>\n",
       "      <td>35000</td>\n",
       "    </tr>\n",
       "    <tr>\n",
       "      <th>7556</th>\n",
       "      <td>30-Dec-2020</td>\n",
       "      <td>Evening</td>\n",
       "      <td>TAS</td>\n",
       "      <td>Kids</td>\n",
       "      <td>15</td>\n",
       "      <td>37500</td>\n",
       "    </tr>\n",
       "    <tr>\n",
       "      <th>7557</th>\n",
       "      <td>30-Dec-2020</td>\n",
       "      <td>Evening</td>\n",
       "      <td>TAS</td>\n",
       "      <td>Men</td>\n",
       "      <td>15</td>\n",
       "      <td>37500</td>\n",
       "    </tr>\n",
       "    <tr>\n",
       "      <th>7558</th>\n",
       "      <td>30-Dec-2020</td>\n",
       "      <td>Evening</td>\n",
       "      <td>TAS</td>\n",
       "      <td>Women</td>\n",
       "      <td>11</td>\n",
       "      <td>27500</td>\n",
       "    </tr>\n",
       "    <tr>\n",
       "      <th>7559</th>\n",
       "      <td>30-Dec-2020</td>\n",
       "      <td>Evening</td>\n",
       "      <td>TAS</td>\n",
       "      <td>Seniors</td>\n",
       "      <td>13</td>\n",
       "      <td>32500</td>\n",
       "    </tr>\n",
       "  </tbody>\n",
       "</table>\n",
       "</div>"
      ],
      "text/plain": [
       "             Date        Time State     Group  Unit  Sales\n",
       "7555  30-Dec-2020   Afternoon   TAS   Seniors    14  35000\n",
       "7556  30-Dec-2020     Evening   TAS      Kids    15  37500\n",
       "7557  30-Dec-2020     Evening   TAS       Men    15  37500\n",
       "7558  30-Dec-2020     Evening   TAS     Women    11  27500\n",
       "7559  30-Dec-2020     Evening   TAS   Seniors    13  32500"
      ]
     },
     "execution_count": 5,
     "metadata": {},
     "output_type": "execute_result"
    }
   ],
   "source": [
    "sale_data.tail()"
   ]
  },
  {
   "cell_type": "code",
   "execution_count": 6,
   "id": "8c59716b-3220-4222-a3b5-acbde814f626",
   "metadata": {},
   "outputs": [
    {
     "data": {
      "text/html": [
       "<div>\n",
       "<style scoped>\n",
       "    .dataframe tbody tr th:only-of-type {\n",
       "        vertical-align: middle;\n",
       "    }\n",
       "\n",
       "    .dataframe tbody tr th {\n",
       "        vertical-align: top;\n",
       "    }\n",
       "\n",
       "    .dataframe thead th {\n",
       "        text-align: right;\n",
       "    }\n",
       "</style>\n",
       "<table border=\"1\" class=\"dataframe\">\n",
       "  <thead>\n",
       "    <tr style=\"text-align: right;\">\n",
       "      <th></th>\n",
       "      <th>Unit</th>\n",
       "      <th>Sales</th>\n",
       "    </tr>\n",
       "  </thead>\n",
       "  <tbody>\n",
       "    <tr>\n",
       "      <th>count</th>\n",
       "      <td>7560.000000</td>\n",
       "      <td>7560.000000</td>\n",
       "    </tr>\n",
       "    <tr>\n",
       "      <th>mean</th>\n",
       "      <td>18.005423</td>\n",
       "      <td>45013.558201</td>\n",
       "    </tr>\n",
       "    <tr>\n",
       "      <th>std</th>\n",
       "      <td>12.901403</td>\n",
       "      <td>32253.506944</td>\n",
       "    </tr>\n",
       "    <tr>\n",
       "      <th>min</th>\n",
       "      <td>2.000000</td>\n",
       "      <td>5000.000000</td>\n",
       "    </tr>\n",
       "    <tr>\n",
       "      <th>25%</th>\n",
       "      <td>8.000000</td>\n",
       "      <td>20000.000000</td>\n",
       "    </tr>\n",
       "    <tr>\n",
       "      <th>50%</th>\n",
       "      <td>14.000000</td>\n",
       "      <td>35000.000000</td>\n",
       "    </tr>\n",
       "    <tr>\n",
       "      <th>75%</th>\n",
       "      <td>26.000000</td>\n",
       "      <td>65000.000000</td>\n",
       "    </tr>\n",
       "    <tr>\n",
       "      <th>max</th>\n",
       "      <td>65.000000</td>\n",
       "      <td>162500.000000</td>\n",
       "    </tr>\n",
       "  </tbody>\n",
       "</table>\n",
       "</div>"
      ],
      "text/plain": [
       "              Unit          Sales\n",
       "count  7560.000000    7560.000000\n",
       "mean     18.005423   45013.558201\n",
       "std      12.901403   32253.506944\n",
       "min       2.000000    5000.000000\n",
       "25%       8.000000   20000.000000\n",
       "50%      14.000000   35000.000000\n",
       "75%      26.000000   65000.000000\n",
       "max      65.000000  162500.000000"
      ]
     },
     "execution_count": 6,
     "metadata": {},
     "output_type": "execute_result"
    }
   ],
   "source": [
    "sale_data.describe()"
   ]
  },
  {
   "cell_type": "code",
   "execution_count": 7,
   "id": "be6792b5-6462-4a98-aecb-44ce4383f3fb",
   "metadata": {},
   "outputs": [
    {
     "data": {
      "text/plain": [
       "<bound method DataFrame.info of              Date        Time State     Group  Unit  Sales\n",
       "0      1-Oct-2020     Morning    WA      Kids     8  20000\n",
       "1      1-Oct-2020     Morning    WA       Men     8  20000\n",
       "2      1-Oct-2020     Morning    WA     Women     4  10000\n",
       "3      1-Oct-2020     Morning    WA   Seniors    15  37500\n",
       "4      1-Oct-2020   Afternoon    WA      Kids     3   7500\n",
       "...           ...         ...   ...       ...   ...    ...\n",
       "7555  30-Dec-2020   Afternoon   TAS   Seniors    14  35000\n",
       "7556  30-Dec-2020     Evening   TAS      Kids    15  37500\n",
       "7557  30-Dec-2020     Evening   TAS       Men    15  37500\n",
       "7558  30-Dec-2020     Evening   TAS     Women    11  27500\n",
       "7559  30-Dec-2020     Evening   TAS   Seniors    13  32500\n",
       "\n",
       "[7560 rows x 6 columns]>"
      ]
     },
     "execution_count": 7,
     "metadata": {},
     "output_type": "execute_result"
    }
   ],
   "source": [
    "sale_data.info"
   ]
  },
  {
   "cell_type": "code",
   "execution_count": 8,
   "id": "622f3f67-0e77-4e4e-9ae5-1056a3e84dac",
   "metadata": {},
   "outputs": [
    {
     "data": {
      "text/plain": [
       "Date     object\n",
       "Time     object\n",
       "State    object\n",
       "Group    object\n",
       "Unit      int64\n",
       "Sales     int64\n",
       "dtype: object"
      ]
     },
     "execution_count": 8,
     "metadata": {},
     "output_type": "execute_result"
    }
   ],
   "source": [
    "sale_data.dtypes"
   ]
  },
  {
   "cell_type": "code",
   "execution_count": 9,
   "id": "505ff154-f0d2-499a-ad1e-39f337ba2c30",
   "metadata": {},
   "outputs": [
    {
     "name": "stdout",
     "output_type": "stream",
     "text": [
      "Missing Values per Column:\n",
      "Date     0\n",
      "Time     0\n",
      "State    0\n",
      "Group    0\n",
      "Unit     0\n",
      "Sales    0\n",
      "dtype: int64\n"
     ]
    }
   ],
   "source": [
    "missing_values = sale_data.isnull().sum()\n",
    "print(\"Missing Values per Column:\")\n",
    "print(missing_values)"
   ]
  },
  {
   "cell_type": "code",
   "execution_count": 10,
   "id": "5142c956-624b-4774-83f4-43030c607de0",
   "metadata": {},
   "outputs": [
    {
     "name": "stdout",
     "output_type": "stream",
     "text": [
      "<class 'pandas.core.frame.DataFrame'>\n",
      "RangeIndex: 7560 entries, 0 to 7559\n",
      "Data columns (total 6 columns):\n",
      " #   Column  Non-Null Count  Dtype \n",
      "---  ------  --------------  ----- \n",
      " 0   Date    7560 non-null   object\n",
      " 1   Time    7560 non-null   object\n",
      " 2   State   7560 non-null   object\n",
      " 3   Group   7560 non-null   object\n",
      " 4   Unit    7560 non-null   int64 \n",
      " 5   Sales   7560 non-null   int64 \n",
      "dtypes: int64(2), object(4)\n",
      "memory usage: 354.5+ KB\n"
     ]
    }
   ],
   "source": [
    "sale_data.info()"
   ]
  },
  {
   "cell_type": "code",
   "execution_count": 11,
   "id": "b786300d-48af-410c-aac8-a57f741b3ba0",
   "metadata": {},
   "outputs": [
    {
     "name": "stdout",
     "output_type": "stream",
     "text": [
      "sale_data with new features:\n",
      "             Date        Time State     Group  Unit  Sales  Log_Price  \\\n",
      "0      1-Oct-2020     Morning    WA      Kids     8  20000   9.903488   \n",
      "1      1-Oct-2020     Morning    WA       Men     8  20000   9.903488   \n",
      "2      1-Oct-2020     Morning    WA     Women     4  10000   9.210340   \n",
      "3      1-Oct-2020     Morning    WA   Seniors    15  37500  10.532096   \n",
      "4      1-Oct-2020   Afternoon    WA      Kids     3   7500   8.922658   \n",
      "...           ...         ...   ...       ...   ...    ...        ...   \n",
      "7555  30-Dec-2020   Afternoon   TAS   Seniors    14  35000  10.463103   \n",
      "7556  30-Dec-2020     Evening   TAS      Kids    15  37500  10.532096   \n",
      "7557  30-Dec-2020     Evening   TAS       Men    15  37500  10.532096   \n",
      "7558  30-Dec-2020     Evening   TAS     Women    11  27500  10.221941   \n",
      "7559  30-Dec-2020     Evening   TAS   Seniors    13  32500  10.388995   \n",
      "\n",
      "      Sales_transformation  \n",
      "0                 0.095238  \n",
      "1                 0.095238  \n",
      "2                 0.031746  \n",
      "3                 0.206349  \n",
      "4                 0.015873  \n",
      "...                    ...  \n",
      "7555              0.190476  \n",
      "7556              0.206349  \n",
      "7557              0.206349  \n",
      "7558              0.142857  \n",
      "7559              0.174603  \n",
      "\n",
      "[7560 rows x 8 columns]\n"
     ]
    }
   ],
   "source": [
    "if 'Sales' in sale_data.columns:\n",
    "    # Use the natural logarithm to create a new feature 'Log_Price'\n",
    "    sale_data['Log_Price'] = sale_data['Sales'].apply(lambda x: np.log(x))\n",
    "\n",
    "    # Normalize 'price' column and create a new feature 'Normalized_Price'\n",
    "    sale_data['Sales_transformation'] = (sale_data['Sales'] - sale_data['Sales'].min()) / (sale_data['Sales'].max() - sale_data['Sales'].min())\n",
    "\n",
    "    # Displaying the DataFrame with the new features\n",
    "    print(\"sale_data with new features:\")\n",
    "    print(sale_data)\n",
    "else:\n",
    "    print(\"The 'Sales' column does not exist in the DataFrame.\")"
   ]
  },
  {
   "cell_type": "code",
   "execution_count": 12,
   "id": "d35903c3-071a-4291-a10e-6f54880b9697",
   "metadata": {},
   "outputs": [],
   "source": [
    "# Remove duplicates\n",
    "data_cleaned = sale_data.drop_duplicates()"
   ]
  },
  {
   "cell_type": "code",
   "execution_count": 13,
   "id": "cc4a22b9-18d3-4696-b94c-9ad3f70e4791",
   "metadata": {},
   "outputs": [],
   "source": [
    "# Export the cleaned dataset\n",
    "data_cleaned.to_csv('Cleaned_AusApparalSales4thQrt2020.csv', index=False)"
   ]
  },
  {
   "cell_type": "code",
   "execution_count": 14,
   "id": "17b28828-4206-45cf-a8f5-5ae45e910ffe",
   "metadata": {},
   "outputs": [
    {
     "data": {
      "text/plain": [
       "Index(['Date', 'Time', 'State', 'Group', 'Unit', 'Sales', 'Log_Price',\n",
       "       'Sales_transformation'],\n",
       "      dtype='object')"
      ]
     },
     "execution_count": 14,
     "metadata": {},
     "output_type": "execute_result"
    }
   ],
   "source": [
    "sale_data.columns"
   ]
  },
  {
   "cell_type": "code",
   "execution_count": 15,
   "id": "b62a824a-be2f-4149-9b47-a61135d14014",
   "metadata": {},
   "outputs": [
    {
     "data": {
      "text/plain": [
       " Kids       1890\n",
       " Men        1890\n",
       " Women      1890\n",
       " Seniors    1890\n",
       "Name: Group, dtype: int64"
      ]
     },
     "execution_count": 15,
     "metadata": {},
     "output_type": "execute_result"
    }
   ],
   "source": [
    "sale_data['Group'].value_counts()"
   ]
  },
  {
   "cell_type": "code",
   "execution_count": 16,
   "id": "77f6c9d3-e2be-4c07-accc-4dc3d1b421e4",
   "metadata": {},
   "outputs": [
    {
     "data": {
      "text/plain": [
       "9     406\n",
       "10    402\n",
       "6     370\n",
       "8     369\n",
       "7     362\n",
       "     ... \n",
       "53      9\n",
       "61      9\n",
       "54      9\n",
       "60      7\n",
       "58      5\n",
       "Name: Unit, Length: 64, dtype: int64"
      ]
     },
     "execution_count": 16,
     "metadata": {},
     "output_type": "execute_result"
    }
   ],
   "source": [
    "sale_data['Unit'].value_counts()"
   ]
  },
  {
   "cell_type": "code",
   "execution_count": 17,
   "id": "ac200610-0c69-434a-a1eb-c90ea53cfb91",
   "metadata": {},
   "outputs": [
    {
     "data": {
      "text/html": [
       "<div>\n",
       "<style scoped>\n",
       "    .dataframe tbody tr th:only-of-type {\n",
       "        vertical-align: middle;\n",
       "    }\n",
       "\n",
       "    .dataframe tbody tr th {\n",
       "        vertical-align: top;\n",
       "    }\n",
       "\n",
       "    .dataframe thead th {\n",
       "        text-align: right;\n",
       "    }\n",
       "</style>\n",
       "<table border=\"1\" class=\"dataframe\">\n",
       "  <thead>\n",
       "    <tr style=\"text-align: right;\">\n",
       "      <th></th>\n",
       "      <th>Unit</th>\n",
       "      <th>Sales</th>\n",
       "    </tr>\n",
       "    <tr>\n",
       "      <th>State</th>\n",
       "      <th></th>\n",
       "      <th></th>\n",
       "    </tr>\n",
       "  </thead>\n",
       "  <tbody>\n",
       "    <tr>\n",
       "      <th>NSW</th>\n",
       "      <td>29988</td>\n",
       "      <td>74970000</td>\n",
       "    </tr>\n",
       "    <tr>\n",
       "      <th>NT</th>\n",
       "      <td>9032</td>\n",
       "      <td>22580000</td>\n",
       "    </tr>\n",
       "    <tr>\n",
       "      <th>QLD</th>\n",
       "      <td>13367</td>\n",
       "      <td>33417500</td>\n",
       "    </tr>\n",
       "    <tr>\n",
       "      <th>SA</th>\n",
       "      <td>23543</td>\n",
       "      <td>58857500</td>\n",
       "    </tr>\n",
       "    <tr>\n",
       "      <th>TAS</th>\n",
       "      <td>9104</td>\n",
       "      <td>22760000</td>\n",
       "    </tr>\n",
       "    <tr>\n",
       "      <th>VIC</th>\n",
       "      <td>42226</td>\n",
       "      <td>105565000</td>\n",
       "    </tr>\n",
       "    <tr>\n",
       "      <th>WA</th>\n",
       "      <td>8861</td>\n",
       "      <td>22152500</td>\n",
       "    </tr>\n",
       "  </tbody>\n",
       "</table>\n",
       "</div>"
      ],
      "text/plain": [
       "        Unit      Sales\n",
       "State                  \n",
       " NSW   29988   74970000\n",
       " NT     9032   22580000\n",
       " QLD   13367   33417500\n",
       " SA    23543   58857500\n",
       " TAS    9104   22760000\n",
       " VIC   42226  105565000\n",
       " WA     8861   22152500"
      ]
     },
     "execution_count": 17,
     "metadata": {},
     "output_type": "execute_result"
    }
   ],
   "source": [
    "sale_data.groupby('State')[['Unit','Sales']].sum()"
   ]
  },
  {
   "cell_type": "code",
   "execution_count": 18,
   "id": "ab4ce186-f9e0-4aa6-97b0-1636d8b47cb4",
   "metadata": {},
   "outputs": [
    {
     "data": {
      "text/html": [
       "<div>\n",
       "<style scoped>\n",
       "    .dataframe tbody tr th:only-of-type {\n",
       "        vertical-align: middle;\n",
       "    }\n",
       "\n",
       "    .dataframe tbody tr th {\n",
       "        vertical-align: top;\n",
       "    }\n",
       "\n",
       "    .dataframe thead th {\n",
       "        text-align: right;\n",
       "    }\n",
       "</style>\n",
       "<table border=\"1\" class=\"dataframe\">\n",
       "  <thead>\n",
       "    <tr style=\"text-align: right;\">\n",
       "      <th></th>\n",
       "      <th>Unit</th>\n",
       "      <th>Sales</th>\n",
       "    </tr>\n",
       "    <tr>\n",
       "      <th>Time</th>\n",
       "      <th></th>\n",
       "      <th></th>\n",
       "    </tr>\n",
       "  </thead>\n",
       "  <tbody>\n",
       "    <tr>\n",
       "      <th>Afternoon</th>\n",
       "      <td>45603</td>\n",
       "      <td>114007500</td>\n",
       "    </tr>\n",
       "    <tr>\n",
       "      <th>Evening</th>\n",
       "      <td>44835</td>\n",
       "      <td>112087500</td>\n",
       "    </tr>\n",
       "    <tr>\n",
       "      <th>Morning</th>\n",
       "      <td>45683</td>\n",
       "      <td>114207500</td>\n",
       "    </tr>\n",
       "  </tbody>\n",
       "</table>\n",
       "</div>"
      ],
      "text/plain": [
       "             Unit      Sales\n",
       "Time                        \n",
       " Afternoon  45603  114007500\n",
       " Evening    44835  112087500\n",
       " Morning    45683  114207500"
      ]
     },
     "execution_count": 18,
     "metadata": {},
     "output_type": "execute_result"
    }
   ],
   "source": [
    "sale_data.groupby('Time')[['Unit' , 'Sales']].sum()"
   ]
  },
  {
   "cell_type": "code",
   "execution_count": 19,
   "id": "478ae427-9886-4b25-8a1a-9577bfef2883",
   "metadata": {},
   "outputs": [
    {
     "data": {
      "text/html": [
       "<div>\n",
       "<style scoped>\n",
       "    .dataframe tbody tr th:only-of-type {\n",
       "        vertical-align: middle;\n",
       "    }\n",
       "\n",
       "    .dataframe tbody tr th {\n",
       "        vertical-align: top;\n",
       "    }\n",
       "\n",
       "    .dataframe thead th {\n",
       "        text-align: right;\n",
       "    }\n",
       "</style>\n",
       "<table border=\"1\" class=\"dataframe\">\n",
       "  <thead>\n",
       "    <tr style=\"text-align: right;\">\n",
       "      <th></th>\n",
       "      <th>Sales</th>\n",
       "      <th>Unit</th>\n",
       "    </tr>\n",
       "    <tr>\n",
       "      <th>Date</th>\n",
       "      <th></th>\n",
       "      <th></th>\n",
       "    </tr>\n",
       "  </thead>\n",
       "  <tbody>\n",
       "    <tr>\n",
       "      <th>1-Dec-2020</th>\n",
       "      <td>4465000</td>\n",
       "      <td>1786</td>\n",
       "    </tr>\n",
       "    <tr>\n",
       "      <th>1-Nov-2020</th>\n",
       "      <td>3020000</td>\n",
       "      <td>1208</td>\n",
       "    </tr>\n",
       "    <tr>\n",
       "      <th>1-Oct-2020</th>\n",
       "      <td>3720000</td>\n",
       "      <td>1488</td>\n",
       "    </tr>\n",
       "    <tr>\n",
       "      <th>10-Dec-2020</th>\n",
       "      <td>4717500</td>\n",
       "      <td>1887</td>\n",
       "    </tr>\n",
       "    <tr>\n",
       "      <th>10-Nov-2020</th>\n",
       "      <td>2992500</td>\n",
       "      <td>1197</td>\n",
       "    </tr>\n",
       "    <tr>\n",
       "      <th>...</th>\n",
       "      <td>...</td>\n",
       "      <td>...</td>\n",
       "    </tr>\n",
       "    <tr>\n",
       "      <th>8-Nov-2020</th>\n",
       "      <td>3210000</td>\n",
       "      <td>1284</td>\n",
       "    </tr>\n",
       "    <tr>\n",
       "      <th>8-Oct-2020</th>\n",
       "      <td>3945000</td>\n",
       "      <td>1578</td>\n",
       "    </tr>\n",
       "    <tr>\n",
       "      <th>9-Dec-2020</th>\n",
       "      <td>4655000</td>\n",
       "      <td>1862</td>\n",
       "    </tr>\n",
       "    <tr>\n",
       "      <th>9-Nov-2020</th>\n",
       "      <td>2925000</td>\n",
       "      <td>1170</td>\n",
       "    </tr>\n",
       "    <tr>\n",
       "      <th>9-Oct-2020</th>\n",
       "      <td>3645000</td>\n",
       "      <td>1458</td>\n",
       "    </tr>\n",
       "  </tbody>\n",
       "</table>\n",
       "<p>90 rows × 2 columns</p>\n",
       "</div>"
      ],
      "text/plain": [
       "               Sales  Unit\n",
       "Date                      \n",
       "1-Dec-2020   4465000  1786\n",
       "1-Nov-2020   3020000  1208\n",
       "1-Oct-2020   3720000  1488\n",
       "10-Dec-2020  4717500  1887\n",
       "10-Nov-2020  2992500  1197\n",
       "...              ...   ...\n",
       "8-Nov-2020   3210000  1284\n",
       "8-Oct-2020   3945000  1578\n",
       "9-Dec-2020   4655000  1862\n",
       "9-Nov-2020   2925000  1170\n",
       "9-Oct-2020   3645000  1458\n",
       "\n",
       "[90 rows x 2 columns]"
      ]
     },
     "execution_count": 19,
     "metadata": {},
     "output_type": "execute_result"
    }
   ],
   "source": [
    "sale_data.groupby('Date')[['Sales', 'Unit']].sum()"
   ]
  },
  {
   "cell_type": "code",
   "execution_count": 20,
   "id": "32534e47-6375-424f-a4b1-44d2eccec8f5",
   "metadata": {},
   "outputs": [
    {
     "data": {
      "text/html": [
       "<div>\n",
       "<style scoped>\n",
       "    .dataframe tbody tr th:only-of-type {\n",
       "        vertical-align: middle;\n",
       "    }\n",
       "\n",
       "    .dataframe tbody tr th {\n",
       "        vertical-align: top;\n",
       "    }\n",
       "\n",
       "    .dataframe thead th {\n",
       "        text-align: right;\n",
       "    }\n",
       "</style>\n",
       "<table border=\"1\" class=\"dataframe\">\n",
       "  <thead>\n",
       "    <tr style=\"text-align: right;\">\n",
       "      <th></th>\n",
       "      <th></th>\n",
       "      <th>Sales</th>\n",
       "      <th>Unit</th>\n",
       "    </tr>\n",
       "    <tr>\n",
       "      <th>Group</th>\n",
       "      <th>State</th>\n",
       "      <th></th>\n",
       "      <th></th>\n",
       "    </tr>\n",
       "  </thead>\n",
       "  <tbody>\n",
       "    <tr>\n",
       "      <th rowspan=\"7\" valign=\"top\">Kids</th>\n",
       "      <th>NSW</th>\n",
       "      <td>18587500</td>\n",
       "      <td>7435</td>\n",
       "    </tr>\n",
       "    <tr>\n",
       "      <th>NT</th>\n",
       "      <td>5700000</td>\n",
       "      <td>2280</td>\n",
       "    </tr>\n",
       "    <tr>\n",
       "      <th>QLD</th>\n",
       "      <td>8510000</td>\n",
       "      <td>3404</td>\n",
       "    </tr>\n",
       "    <tr>\n",
       "      <th>SA</th>\n",
       "      <td>14515000</td>\n",
       "      <td>5806</td>\n",
       "    </tr>\n",
       "    <tr>\n",
       "      <th>TAS</th>\n",
       "      <td>5775000</td>\n",
       "      <td>2310</td>\n",
       "    </tr>\n",
       "    <tr>\n",
       "      <th>VIC</th>\n",
       "      <td>26360000</td>\n",
       "      <td>10544</td>\n",
       "    </tr>\n",
       "    <tr>\n",
       "      <th>WA</th>\n",
       "      <td>5625000</td>\n",
       "      <td>2250</td>\n",
       "    </tr>\n",
       "    <tr>\n",
       "      <th rowspan=\"7\" valign=\"top\">Men</th>\n",
       "      <th>NSW</th>\n",
       "      <td>19022500</td>\n",
       "      <td>7609</td>\n",
       "    </tr>\n",
       "    <tr>\n",
       "      <th>NT</th>\n",
       "      <td>5762500</td>\n",
       "      <td>2305</td>\n",
       "    </tr>\n",
       "    <tr>\n",
       "      <th>QLD</th>\n",
       "      <td>8392500</td>\n",
       "      <td>3357</td>\n",
       "    </tr>\n",
       "    <tr>\n",
       "      <th>SA</th>\n",
       "      <td>14655000</td>\n",
       "      <td>5862</td>\n",
       "    </tr>\n",
       "    <tr>\n",
       "      <th>TAS</th>\n",
       "      <td>5757500</td>\n",
       "      <td>2303</td>\n",
       "    </tr>\n",
       "    <tr>\n",
       "      <th>VIC</th>\n",
       "      <td>26407500</td>\n",
       "      <td>10563</td>\n",
       "    </tr>\n",
       "    <tr>\n",
       "      <th>WA</th>\n",
       "      <td>5752500</td>\n",
       "      <td>2301</td>\n",
       "    </tr>\n",
       "    <tr>\n",
       "      <th rowspan=\"7\" valign=\"top\">Seniors</th>\n",
       "      <th>NSW</th>\n",
       "      <td>18187500</td>\n",
       "      <td>7275</td>\n",
       "    </tr>\n",
       "    <tr>\n",
       "      <th>NT</th>\n",
       "      <td>5465000</td>\n",
       "      <td>2186</td>\n",
       "    </tr>\n",
       "    <tr>\n",
       "      <th>QLD</th>\n",
       "      <td>8190000</td>\n",
       "      <td>3276</td>\n",
       "    </tr>\n",
       "    <tr>\n",
       "      <th>SA</th>\n",
       "      <td>14717500</td>\n",
       "      <td>5887</td>\n",
       "    </tr>\n",
       "    <tr>\n",
       "      <th>TAS</th>\n",
       "      <td>5650000</td>\n",
       "      <td>2260</td>\n",
       "    </tr>\n",
       "    <tr>\n",
       "      <th>VIC</th>\n",
       "      <td>26315000</td>\n",
       "      <td>10526</td>\n",
       "    </tr>\n",
       "    <tr>\n",
       "      <th>WA</th>\n",
       "      <td>5512500</td>\n",
       "      <td>2205</td>\n",
       "    </tr>\n",
       "    <tr>\n",
       "      <th rowspan=\"7\" valign=\"top\">Women</th>\n",
       "      <th>NSW</th>\n",
       "      <td>19172500</td>\n",
       "      <td>7669</td>\n",
       "    </tr>\n",
       "    <tr>\n",
       "      <th>NT</th>\n",
       "      <td>5652500</td>\n",
       "      <td>2261</td>\n",
       "    </tr>\n",
       "    <tr>\n",
       "      <th>QLD</th>\n",
       "      <td>8325000</td>\n",
       "      <td>3330</td>\n",
       "    </tr>\n",
       "    <tr>\n",
       "      <th>SA</th>\n",
       "      <td>14970000</td>\n",
       "      <td>5988</td>\n",
       "    </tr>\n",
       "    <tr>\n",
       "      <th>TAS</th>\n",
       "      <td>5577500</td>\n",
       "      <td>2231</td>\n",
       "    </tr>\n",
       "    <tr>\n",
       "      <th>VIC</th>\n",
       "      <td>26482500</td>\n",
       "      <td>10593</td>\n",
       "    </tr>\n",
       "    <tr>\n",
       "      <th>WA</th>\n",
       "      <td>5262500</td>\n",
       "      <td>2105</td>\n",
       "    </tr>\n",
       "  </tbody>\n",
       "</table>\n",
       "</div>"
      ],
      "text/plain": [
       "                   Sales   Unit\n",
       "Group    State                 \n",
       " Kids     NSW   18587500   7435\n",
       "          NT     5700000   2280\n",
       "          QLD    8510000   3404\n",
       "          SA    14515000   5806\n",
       "          TAS    5775000   2310\n",
       "          VIC   26360000  10544\n",
       "          WA     5625000   2250\n",
       " Men      NSW   19022500   7609\n",
       "          NT     5762500   2305\n",
       "          QLD    8392500   3357\n",
       "          SA    14655000   5862\n",
       "          TAS    5757500   2303\n",
       "          VIC   26407500  10563\n",
       "          WA     5752500   2301\n",
       " Seniors  NSW   18187500   7275\n",
       "          NT     5465000   2186\n",
       "          QLD    8190000   3276\n",
       "          SA    14717500   5887\n",
       "          TAS    5650000   2260\n",
       "          VIC   26315000  10526\n",
       "          WA     5512500   2205\n",
       " Women    NSW   19172500   7669\n",
       "          NT     5652500   2261\n",
       "          QLD    8325000   3330\n",
       "          SA    14970000   5988\n",
       "          TAS    5577500   2231\n",
       "          VIC   26482500  10593\n",
       "          WA     5262500   2105"
      ]
     },
     "execution_count": 20,
     "metadata": {},
     "output_type": "execute_result"
    }
   ],
   "source": [
    "sale_data.groupby(['Group', 'State'])[['Sales', 'Unit']].sum()"
   ]
  },
  {
   "cell_type": "code",
   "execution_count": 21,
   "id": "9c263595-33a8-4a7f-a468-60366214b847",
   "metadata": {},
   "outputs": [
    {
     "data": {
      "text/html": [
       "<div>\n",
       "<style scoped>\n",
       "    .dataframe tbody tr th:only-of-type {\n",
       "        vertical-align: middle;\n",
       "    }\n",
       "\n",
       "    .dataframe tbody tr th {\n",
       "        vertical-align: top;\n",
       "    }\n",
       "\n",
       "    .dataframe thead th {\n",
       "        text-align: right;\n",
       "    }\n",
       "</style>\n",
       "<table border=\"1\" class=\"dataframe\">\n",
       "  <thead>\n",
       "    <tr style=\"text-align: right;\">\n",
       "      <th></th>\n",
       "      <th></th>\n",
       "      <th>Sales</th>\n",
       "      <th>Unit</th>\n",
       "    </tr>\n",
       "    <tr>\n",
       "      <th>Time</th>\n",
       "      <th>State</th>\n",
       "      <th></th>\n",
       "      <th></th>\n",
       "    </tr>\n",
       "  </thead>\n",
       "  <tbody>\n",
       "    <tr>\n",
       "      <th rowspan=\"7\" valign=\"top\">Afternoon</th>\n",
       "      <th>NSW</th>\n",
       "      <td>25110000</td>\n",
       "      <td>10044</td>\n",
       "    </tr>\n",
       "    <tr>\n",
       "      <th>NT</th>\n",
       "      <td>7510000</td>\n",
       "      <td>3004</td>\n",
       "    </tr>\n",
       "    <tr>\n",
       "      <th>QLD</th>\n",
       "      <td>11347500</td>\n",
       "      <td>4539</td>\n",
       "    </tr>\n",
       "    <tr>\n",
       "      <th>SA</th>\n",
       "      <td>20025000</td>\n",
       "      <td>8010</td>\n",
       "    </tr>\n",
       "    <tr>\n",
       "      <th>TAS</th>\n",
       "      <td>7670000</td>\n",
       "      <td>3068</td>\n",
       "    </tr>\n",
       "    <tr>\n",
       "      <th>VIC</th>\n",
       "      <td>35062500</td>\n",
       "      <td>14025</td>\n",
       "    </tr>\n",
       "    <tr>\n",
       "      <th>WA</th>\n",
       "      <td>7282500</td>\n",
       "      <td>2913</td>\n",
       "    </tr>\n",
       "    <tr>\n",
       "      <th rowspan=\"7\" valign=\"top\">Evening</th>\n",
       "      <th>NSW</th>\n",
       "      <td>24712500</td>\n",
       "      <td>9885</td>\n",
       "    </tr>\n",
       "    <tr>\n",
       "      <th>NT</th>\n",
       "      <td>7627500</td>\n",
       "      <td>3051</td>\n",
       "    </tr>\n",
       "    <tr>\n",
       "      <th>QLD</th>\n",
       "      <td>10632500</td>\n",
       "      <td>4253</td>\n",
       "    </tr>\n",
       "    <tr>\n",
       "      <th>SA</th>\n",
       "      <td>19367500</td>\n",
       "      <td>7747</td>\n",
       "    </tr>\n",
       "    <tr>\n",
       "      <th>TAS</th>\n",
       "      <td>7565000</td>\n",
       "      <td>3026</td>\n",
       "    </tr>\n",
       "    <tr>\n",
       "      <th>VIC</th>\n",
       "      <td>34880000</td>\n",
       "      <td>13952</td>\n",
       "    </tr>\n",
       "    <tr>\n",
       "      <th>WA</th>\n",
       "      <td>7302500</td>\n",
       "      <td>2921</td>\n",
       "    </tr>\n",
       "    <tr>\n",
       "      <th rowspan=\"7\" valign=\"top\">Morning</th>\n",
       "      <th>NSW</th>\n",
       "      <td>25147500</td>\n",
       "      <td>10059</td>\n",
       "    </tr>\n",
       "    <tr>\n",
       "      <th>NT</th>\n",
       "      <td>7442500</td>\n",
       "      <td>2977</td>\n",
       "    </tr>\n",
       "    <tr>\n",
       "      <th>QLD</th>\n",
       "      <td>11437500</td>\n",
       "      <td>4575</td>\n",
       "    </tr>\n",
       "    <tr>\n",
       "      <th>SA</th>\n",
       "      <td>19465000</td>\n",
       "      <td>7786</td>\n",
       "    </tr>\n",
       "    <tr>\n",
       "      <th>TAS</th>\n",
       "      <td>7525000</td>\n",
       "      <td>3010</td>\n",
       "    </tr>\n",
       "    <tr>\n",
       "      <th>VIC</th>\n",
       "      <td>35622500</td>\n",
       "      <td>14249</td>\n",
       "    </tr>\n",
       "    <tr>\n",
       "      <th>WA</th>\n",
       "      <td>7567500</td>\n",
       "      <td>3027</td>\n",
       "    </tr>\n",
       "  </tbody>\n",
       "</table>\n",
       "</div>"
      ],
      "text/plain": [
       "                     Sales   Unit\n",
       "Time       State                 \n",
       " Afternoon  NSW   25110000  10044\n",
       "            NT     7510000   3004\n",
       "            QLD   11347500   4539\n",
       "            SA    20025000   8010\n",
       "            TAS    7670000   3068\n",
       "            VIC   35062500  14025\n",
       "            WA     7282500   2913\n",
       " Evening    NSW   24712500   9885\n",
       "            NT     7627500   3051\n",
       "            QLD   10632500   4253\n",
       "            SA    19367500   7747\n",
       "            TAS    7565000   3026\n",
       "            VIC   34880000  13952\n",
       "            WA     7302500   2921\n",
       " Morning    NSW   25147500  10059\n",
       "            NT     7442500   2977\n",
       "            QLD   11437500   4575\n",
       "            SA    19465000   7786\n",
       "            TAS    7525000   3010\n",
       "            VIC   35622500  14249\n",
       "            WA     7567500   3027"
      ]
     },
     "execution_count": 21,
     "metadata": {},
     "output_type": "execute_result"
    }
   ],
   "source": [
    "sale_data.groupby(['Time', 'State'])[['Sales', 'Unit']].sum()"
   ]
  },
  {
   "cell_type": "code",
   "execution_count": 22,
   "id": "fc8655ab-d691-403d-b9b8-d07f06419b5c",
   "metadata": {},
   "outputs": [
    {
     "data": {
      "text/plain": [
       "45013.5582010582"
      ]
     },
     "execution_count": 22,
     "metadata": {},
     "output_type": "execute_result"
    }
   ],
   "source": [
    "import statistics\n",
    "statistics.mean(sale_data['Sales'])"
   ]
  },
  {
   "cell_type": "code",
   "execution_count": 23,
   "id": "b6eb15bd-ca41-482b-84ff-0764df5fe8f5",
   "metadata": {},
   "outputs": [
    {
     "data": {
      "text/plain": [
       "22500"
      ]
     },
     "execution_count": 23,
     "metadata": {},
     "output_type": "execute_result"
    }
   ],
   "source": [
    "statistics.mode(sale_data['Sales'])"
   ]
  },
  {
   "cell_type": "code",
   "execution_count": 24,
   "id": "61e3d1f5-158c-493b-8e41-09ad723c5807",
   "metadata": {},
   "outputs": [
    {
     "data": {
      "text/plain": [
       "35000.0"
      ]
     },
     "execution_count": 24,
     "metadata": {},
     "output_type": "execute_result"
    }
   ],
   "source": [
    "statistics.median(sale_data['Sales'])"
   ]
  },
  {
   "cell_type": "code",
   "execution_count": 25,
   "id": "15694a25-564d-438e-8825-91aad017d314",
   "metadata": {},
   "outputs": [
    {
     "data": {
      "text/plain": [
       "32253.506943966073"
      ]
     },
     "execution_count": 25,
     "metadata": {},
     "output_type": "execute_result"
    }
   ],
   "source": [
    "statistics.stdev (sale_data['Sales'])"
   ]
  },
  {
   "cell_type": "code",
   "execution_count": 26,
   "id": "30c8debc-eefe-4231-92b9-1154f5c73bfd",
   "metadata": {},
   "outputs": [
    {
     "data": {
      "text/plain": [
       "18.00542328042328"
      ]
     },
     "execution_count": 26,
     "metadata": {},
     "output_type": "execute_result"
    }
   ],
   "source": [
    "import statistics\n",
    "statistics.mean(sale_data['Unit'])"
   ]
  },
  {
   "cell_type": "code",
   "execution_count": 27,
   "id": "53f4dcf8-181c-48f1-b531-b035d34659a0",
   "metadata": {},
   "outputs": [
    {
     "data": {
      "text/plain": [
       "9"
      ]
     },
     "execution_count": 27,
     "metadata": {},
     "output_type": "execute_result"
    }
   ],
   "source": [
    "statistics.mode(sale_data['Unit'])"
   ]
  },
  {
   "cell_type": "code",
   "execution_count": 28,
   "id": "725b48e9-1609-4bd6-91dc-ce3b3bcd7651",
   "metadata": {},
   "outputs": [
    {
     "data": {
      "text/plain": [
       "14.0"
      ]
     },
     "execution_count": 28,
     "metadata": {},
     "output_type": "execute_result"
    }
   ],
   "source": [
    "statistics.median(sale_data['Unit'])"
   ]
  },
  {
   "cell_type": "code",
   "execution_count": 29,
   "id": "b030577f-5891-4068-b4ca-dd3e87981037",
   "metadata": {},
   "outputs": [
    {
     "data": {
      "text/plain": [
       "12.901402777586428"
      ]
     },
     "execution_count": 29,
     "metadata": {},
     "output_type": "execute_result"
    }
   ],
   "source": [
    "statistics.stdev(sale_data['Unit'])"
   ]
  },
  {
   "cell_type": "code",
   "execution_count": 64,
   "id": "c4d8d31c-dee9-4bc9-8e1e-22115c850f7a",
   "metadata": {},
   "outputs": [
    {
     "data": {
      "text/plain": [
       "Group\n",
       " Kids       85072500\n",
       " Men        85750000\n",
       " Seniors    84037500\n",
       " Women      85442500\n",
       "Name: Sales, dtype: int64"
      ]
     },
     "execution_count": 64,
     "metadata": {},
     "output_type": "execute_result"
    }
   ],
   "source": [
    "group_by_sale = sale_data.groupby('Group')['Sales'].sum()\n",
    "group_by_sale"
   ]
  },
  {
   "cell_type": "code",
   "execution_count": 31,
   "id": "3477620f-068d-41fc-9aa8-0e21d8c57330",
   "metadata": {},
   "outputs": [
    {
     "data": {
      "text/plain": [
       "85750000"
      ]
     },
     "execution_count": 31,
     "metadata": {},
     "output_type": "execute_result"
    }
   ],
   "source": [
    "group_by_sale.max()"
   ]
  },
  {
   "cell_type": "code",
   "execution_count": 32,
   "id": "4c416803-ec98-415d-8c75-3ac5dcff67c3",
   "metadata": {},
   "outputs": [
    {
     "data": {
      "text/plain": [
       "84037500"
      ]
     },
     "execution_count": 32,
     "metadata": {},
     "output_type": "execute_result"
    }
   ],
   "source": [
    "group_by_sale.min()"
   ]
  },
  {
   "cell_type": "code",
   "execution_count": 33,
   "id": "59d586e8-5911-4d62-8d17-15957e94dcbf",
   "metadata": {},
   "outputs": [
    {
     "data": {
      "text/plain": [
       "Date\n",
       "1-Dec-2020     4465000\n",
       "1-Nov-2020     3020000\n",
       "1-Oct-2020     3720000\n",
       "10-Dec-2020    4717500\n",
       "10-Nov-2020    2992500\n",
       "                ...   \n",
       "8-Nov-2020     3210000\n",
       "8-Oct-2020     3945000\n",
       "9-Dec-2020     4655000\n",
       "9-Nov-2020     2925000\n",
       "9-Oct-2020     3645000\n",
       "Name: Sales, Length: 90, dtype: int64"
      ]
     },
     "execution_count": 33,
     "metadata": {},
     "output_type": "execute_result"
    }
   ],
   "source": [
    "sale_data.groupby('Date')['Sales'].sum()"
   ]
  },
  {
   "cell_type": "code",
   "execution_count": 34,
   "id": "f2a19c07-92bb-4176-8b6f-6a5e96956a4b",
   "metadata": {},
   "outputs": [],
   "source": [
    "sale_data['Date'] = pd.to_datetime(sale_data['Date'])"
   ]
  },
  {
   "cell_type": "code",
   "execution_count": 35,
   "id": "de5e118c-b274-4b92-84ed-cf259102ae09",
   "metadata": {},
   "outputs": [],
   "source": [
    "sale_data['Week'] = sale_data['Date'].dt.isocalendar().week\n"
   ]
  },
  {
   "cell_type": "code",
   "execution_count": 36,
   "id": "d58dcd83-796b-4c58-8723-1bdcd6ea1246",
   "metadata": {},
   "outputs": [],
   "source": [
    "sale_data['Month'] = sale_data['Date'].dt.month"
   ]
  },
  {
   "cell_type": "code",
   "execution_count": 37,
   "id": "8244a0c5-d8ea-48f2-b8d4-89dbf7166835",
   "metadata": {},
   "outputs": [],
   "source": [
    "sale_data['Quarter'] = sale_data['Date'].dt.quarter"
   ]
  },
  {
   "cell_type": "code",
   "execution_count": 38,
   "id": "4f394a7f-e828-4802-b3f1-ab1183898751",
   "metadata": {},
   "outputs": [
    {
     "data": {
      "text/html": [
       "<div>\n",
       "<style scoped>\n",
       "    .dataframe tbody tr th:only-of-type {\n",
       "        vertical-align: middle;\n",
       "    }\n",
       "\n",
       "    .dataframe tbody tr th {\n",
       "        vertical-align: top;\n",
       "    }\n",
       "\n",
       "    .dataframe thead th {\n",
       "        text-align: right;\n",
       "    }\n",
       "</style>\n",
       "<table border=\"1\" class=\"dataframe\">\n",
       "  <thead>\n",
       "    <tr style=\"text-align: right;\">\n",
       "      <th></th>\n",
       "      <th>Sales</th>\n",
       "      <th>Unit</th>\n",
       "    </tr>\n",
       "    <tr>\n",
       "      <th>Week</th>\n",
       "      <th></th>\n",
       "      <th></th>\n",
       "    </tr>\n",
       "  </thead>\n",
       "  <tbody>\n",
       "    <tr>\n",
       "      <th>40</th>\n",
       "      <td>15045000</td>\n",
       "      <td>6018</td>\n",
       "    </tr>\n",
       "    <tr>\n",
       "      <th>41</th>\n",
       "      <td>27002500</td>\n",
       "      <td>10801</td>\n",
       "    </tr>\n",
       "    <tr>\n",
       "      <th>42</th>\n",
       "      <td>26640000</td>\n",
       "      <td>10656</td>\n",
       "    </tr>\n",
       "    <tr>\n",
       "      <th>43</th>\n",
       "      <td>26815000</td>\n",
       "      <td>10726</td>\n",
       "    </tr>\n",
       "    <tr>\n",
       "      <th>44</th>\n",
       "      <td>21807500</td>\n",
       "      <td>8723</td>\n",
       "    </tr>\n",
       "    <tr>\n",
       "      <th>45</th>\n",
       "      <td>20865000</td>\n",
       "      <td>8346</td>\n",
       "    </tr>\n",
       "    <tr>\n",
       "      <th>46</th>\n",
       "      <td>21172500</td>\n",
       "      <td>8469</td>\n",
       "    </tr>\n",
       "    <tr>\n",
       "      <th>47</th>\n",
       "      <td>21112500</td>\n",
       "      <td>8445</td>\n",
       "    </tr>\n",
       "    <tr>\n",
       "      <th>48</th>\n",
       "      <td>21477500</td>\n",
       "      <td>8591</td>\n",
       "    </tr>\n",
       "    <tr>\n",
       "      <th>49</th>\n",
       "      <td>29622500</td>\n",
       "      <td>11849</td>\n",
       "    </tr>\n",
       "    <tr>\n",
       "      <th>50</th>\n",
       "      <td>31525000</td>\n",
       "      <td>12610</td>\n",
       "    </tr>\n",
       "    <tr>\n",
       "      <th>51</th>\n",
       "      <td>31655000</td>\n",
       "      <td>12662</td>\n",
       "    </tr>\n",
       "    <tr>\n",
       "      <th>52</th>\n",
       "      <td>31770000</td>\n",
       "      <td>12708</td>\n",
       "    </tr>\n",
       "    <tr>\n",
       "      <th>53</th>\n",
       "      <td>13792500</td>\n",
       "      <td>5517</td>\n",
       "    </tr>\n",
       "  </tbody>\n",
       "</table>\n",
       "</div>"
      ],
      "text/plain": [
       "         Sales   Unit\n",
       "Week                 \n",
       "40    15045000   6018\n",
       "41    27002500  10801\n",
       "42    26640000  10656\n",
       "43    26815000  10726\n",
       "44    21807500   8723\n",
       "45    20865000   8346\n",
       "46    21172500   8469\n",
       "47    21112500   8445\n",
       "48    21477500   8591\n",
       "49    29622500  11849\n",
       "50    31525000  12610\n",
       "51    31655000  12662\n",
       "52    31770000  12708\n",
       "53    13792500   5517"
      ]
     },
     "execution_count": 38,
     "metadata": {},
     "output_type": "execute_result"
    }
   ],
   "source": [
    "weekly_report = sale_data.groupby('Week')[['Sales','Unit']].sum()\n",
    "weekly_report"
   ]
  },
  {
   "cell_type": "code",
   "execution_count": 39,
   "id": "da32a3ca-aee6-47d4-8b29-59f9b8877380",
   "metadata": {},
   "outputs": [
    {
     "data": {
      "text/html": [
       "<div>\n",
       "<style scoped>\n",
       "    .dataframe tbody tr th:only-of-type {\n",
       "        vertical-align: middle;\n",
       "    }\n",
       "\n",
       "    .dataframe tbody tr th {\n",
       "        vertical-align: top;\n",
       "    }\n",
       "\n",
       "    .dataframe thead th {\n",
       "        text-align: right;\n",
       "    }\n",
       "</style>\n",
       "<table border=\"1\" class=\"dataframe\">\n",
       "  <thead>\n",
       "    <tr style=\"text-align: right;\">\n",
       "      <th></th>\n",
       "      <th>Sales</th>\n",
       "      <th>Unit</th>\n",
       "    </tr>\n",
       "    <tr>\n",
       "      <th>Month</th>\n",
       "      <th></th>\n",
       "      <th></th>\n",
       "    </tr>\n",
       "  </thead>\n",
       "  <tbody>\n",
       "    <tr>\n",
       "      <th>10</th>\n",
       "      <td>114290000</td>\n",
       "      <td>45716</td>\n",
       "    </tr>\n",
       "    <tr>\n",
       "      <th>11</th>\n",
       "      <td>90682500</td>\n",
       "      <td>36273</td>\n",
       "    </tr>\n",
       "    <tr>\n",
       "      <th>12</th>\n",
       "      <td>135330000</td>\n",
       "      <td>54132</td>\n",
       "    </tr>\n",
       "  </tbody>\n",
       "</table>\n",
       "</div>"
      ],
      "text/plain": [
       "           Sales   Unit\n",
       "Month                  \n",
       "10     114290000  45716\n",
       "11      90682500  36273\n",
       "12     135330000  54132"
      ]
     },
     "execution_count": 39,
     "metadata": {},
     "output_type": "execute_result"
    }
   ],
   "source": [
    "monthly_report = sale_data.groupby('Month')[['Sales','Unit']].sum()\n",
    "monthly_report"
   ]
  },
  {
   "cell_type": "code",
   "execution_count": 40,
   "id": "8d19e523-22b8-4588-b9eb-ce1f71cb5c15",
   "metadata": {},
   "outputs": [
    {
     "data": {
      "text/html": [
       "<div>\n",
       "<style scoped>\n",
       "    .dataframe tbody tr th:only-of-type {\n",
       "        vertical-align: middle;\n",
       "    }\n",
       "\n",
       "    .dataframe tbody tr th {\n",
       "        vertical-align: top;\n",
       "    }\n",
       "\n",
       "    .dataframe thead th {\n",
       "        text-align: right;\n",
       "    }\n",
       "</style>\n",
       "<table border=\"1\" class=\"dataframe\">\n",
       "  <thead>\n",
       "    <tr style=\"text-align: right;\">\n",
       "      <th></th>\n",
       "      <th>Sales</th>\n",
       "      <th>Unit</th>\n",
       "    </tr>\n",
       "    <tr>\n",
       "      <th>Quarter</th>\n",
       "      <th></th>\n",
       "      <th></th>\n",
       "    </tr>\n",
       "  </thead>\n",
       "  <tbody>\n",
       "    <tr>\n",
       "      <th>4</th>\n",
       "      <td>340302500</td>\n",
       "      <td>136121</td>\n",
       "    </tr>\n",
       "  </tbody>\n",
       "</table>\n",
       "</div>"
      ],
      "text/plain": [
       "             Sales    Unit\n",
       "Quarter                   \n",
       "4        340302500  136121"
      ]
     },
     "execution_count": 40,
     "metadata": {},
     "output_type": "execute_result"
    }
   ],
   "source": [
    "quarterly_report = sale_data.groupby('Quarter')[['Sales','Unit']].sum()\n",
    "quarterly_report"
   ]
  },
  {
   "cell_type": "code",
   "execution_count": 41,
   "id": "9f8a1f76-e73b-4c46-8753-4c3417ca4e7f",
   "metadata": {},
   "outputs": [
    {
     "data": {
      "text/plain": [
       "Index([40, 41, 42, 43, 44, 45, 46, 47, 48, 49, 50, 51, 52, 53], dtype='UInt32', name='Week')"
      ]
     },
     "execution_count": 41,
     "metadata": {},
     "output_type": "execute_result"
    }
   ],
   "source": [
    "weekly_report.index"
   ]
  },
  {
   "cell_type": "code",
   "execution_count": 42,
   "id": "0474293a-7f6b-4b1e-a77a-9615c97b2aea",
   "metadata": {},
   "outputs": [],
   "source": [
    "import matplotlib.pyplot as plt\n",
    "import seaborn as sns\n",
    "import numpy as np"
   ]
  },
  {
   "cell_type": "code",
   "execution_count": 44,
   "id": "a3a4c54f-acad-4b3f-855e-1131705a4fea",
   "metadata": {},
   "outputs": [
    {
     "data": {
      "image/png": "[encoded data removed]",
      "text/plain": [
       "<Figure size 432x288 with 1 Axes>"
      ]
     },
     "metadata": {
      "needs_background": "light"
     },
     "output_type": "display_data"
    }
   ],
   "source": [
    "\n",
    "\n",
    "\n",
    "x = np.sin(weekly_report.index)\n",
    "y = np.sin(weekly_report['Sales'])\n",
    "\n",
    "plt.plot(x, y, label='Sine wave', color='blue', linestyle='-', linewidth=2)\n",
    "\n",
    "plt.xlabel('Week Number')\n",
    "plt.ylabel('Total Sales')\n",
    "plt.title('Line plot: Sine wave')\n",
    "\n",
    "plt.legend()\n",
    "\n",
    "plt.show()"
   ]
  },
  {
   "cell_type": "code",
   "execution_count": 49,
   "id": "713a4352-c022-4bcf-b765-f89694f46747",
   "metadata": {},
   "outputs": [
    {
     "data": {
      "image/png": "[encoded data removed]",
      "text/plain": [
       "<Figure size 432x288 with 1 Axes>"
      ]
     },
     "metadata": {
      "needs_background": "light"
     },
     "output_type": "display_data"
    }
   ],
   "source": [
    "Week = weekly_report.index\n",
    "Sales_Number = weekly_report['Sales']\n",
    "\n",
    "plt.bar(Week,Sales_Number, color='orange', edgecolor='black', label='Bar chart')\n",
    "\n",
    "plt.xlabel('Week')\n",
    "plt.ylabel('Sales_Number')\n",
    "plt.title('Bar chart: Week Report')\n",
    "\n",
    "plt.legend()\n",
    "\n",
    "plt.show()"
   ]
  },
  {
   "cell_type": "code",
   "execution_count": 47,
   "id": "1b019dd3-01fe-456d-9807-e85acc593639",
   "metadata": {},
   "outputs": [
    {
     "data": {
      "image/png": "[encoded data removed]",
      "text/plain": [
       "<Figure size 432x288 with 1 Axes>"
      ]
     },
     "metadata": {
      "needs_background": "light"
     },
     "output_type": "display_data"
    }
   ],
   "source": [
    "\n",
    "Month = monthly_report.index\n",
    "Sales_Number = monthly_report['Sales']\n",
    "\n",
    "plt.bar(Month,Sales_Number, color='orange', edgecolor='black', label='Bar chart')\n",
    "\n",
    "plt.xlabel('Month')\n",
    "plt.ylabel('Sales_Number')\n",
    "plt.title('Bar chart: Month Report')\n",
    "\n",
    "plt.legend()\n",
    "\n",
    "plt.show()\n"
   ]
  },
  {
   "cell_type": "code",
   "execution_count": 48,
   "id": "4b3d0dd5-dfde-4b88-bacb-4191d13edc40",
   "metadata": {},
   "outputs": [
    {
     "data": {
      "image/png": "[encoded data removed]",
      "text/plain": [
       "<Figure size 432x288 with 1 Axes>"
      ]
     },
     "metadata": {
      "needs_background": "light"
     },
     "output_type": "display_data"
    }
   ],
   "source": [
    "Quarterly = quarterly_report.index\n",
    "Sales_Number = quarterly_report['Sales']\n",
    "\n",
    "plt.bar(Quarterly,Sales_Number, color='orange', edgecolor='black', label='Bar chart')\n",
    "\n",
    "plt.xlabel('Quarterly')\n",
    "plt.ylabel('Sales_Number')\n",
    "plt.title('Bar chart: Quarterly Report')\n",
    "\n",
    "plt.legend()\n",
    "\n",
    "plt.show()"
   ]
  },
  {
   "cell_type": "code",
   "execution_count": 56,
   "id": "84b84cb8-8efa-4355-ba6e-b7c2bcef02f9",
   "metadata": {},
   "outputs": [
    {
     "data": {
      "text/html": [
       "<div>\n",
       "<style scoped>\n",
       "    .dataframe tbody tr th:only-of-type {\n",
       "        vertical-align: middle;\n",
       "    }\n",
       "\n",
       "    .dataframe tbody tr th {\n",
       "        vertical-align: top;\n",
       "    }\n",
       "\n",
       "    .dataframe thead th {\n",
       "        text-align: right;\n",
       "    }\n",
       "</style>\n",
       "<table border=\"1\" class=\"dataframe\">\n",
       "  <thead>\n",
       "    <tr style=\"text-align: right;\">\n",
       "      <th>Group</th>\n",
       "      <th>Kids</th>\n",
       "      <th>Men</th>\n",
       "      <th>Seniors</th>\n",
       "      <th>Women</th>\n",
       "    </tr>\n",
       "    <tr>\n",
       "      <th>State</th>\n",
       "      <th></th>\n",
       "      <th></th>\n",
       "      <th></th>\n",
       "      <th></th>\n",
       "    </tr>\n",
       "  </thead>\n",
       "  <tbody>\n",
       "    <tr>\n",
       "      <th>NSW</th>\n",
       "      <td>18587500</td>\n",
       "      <td>19022500</td>\n",
       "      <td>18187500</td>\n",
       "      <td>19172500</td>\n",
       "    </tr>\n",
       "    <tr>\n",
       "      <th>NT</th>\n",
       "      <td>5700000</td>\n",
       "      <td>5762500</td>\n",
       "      <td>5465000</td>\n",
       "      <td>5652500</td>\n",
       "    </tr>\n",
       "    <tr>\n",
       "      <th>QLD</th>\n",
       "      <td>8510000</td>\n",
       "      <td>8392500</td>\n",
       "      <td>8190000</td>\n",
       "      <td>8325000</td>\n",
       "    </tr>\n",
       "    <tr>\n",
       "      <th>SA</th>\n",
       "      <td>14515000</td>\n",
       "      <td>14655000</td>\n",
       "      <td>14717500</td>\n",
       "      <td>14970000</td>\n",
       "    </tr>\n",
       "    <tr>\n",
       "      <th>TAS</th>\n",
       "      <td>5775000</td>\n",
       "      <td>5757500</td>\n",
       "      <td>5650000</td>\n",
       "      <td>5577500</td>\n",
       "    </tr>\n",
       "    <tr>\n",
       "      <th>VIC</th>\n",
       "      <td>26360000</td>\n",
       "      <td>26407500</td>\n",
       "      <td>26315000</td>\n",
       "      <td>26482500</td>\n",
       "    </tr>\n",
       "    <tr>\n",
       "      <th>WA</th>\n",
       "      <td>5625000</td>\n",
       "      <td>5752500</td>\n",
       "      <td>5512500</td>\n",
       "      <td>5262500</td>\n",
       "    </tr>\n",
       "  </tbody>\n",
       "</table>\n",
       "</div>"
      ],
      "text/plain": [
       "Group      Kids       Men   Seniors     Women\n",
       "State                                        \n",
       " NSW   18587500  19022500  18187500  19172500\n",
       " NT     5700000   5762500   5465000   5652500\n",
       " QLD    8510000   8392500   8190000   8325000\n",
       " SA    14515000  14655000  14717500  14970000\n",
       " TAS    5775000   5757500   5650000   5577500\n",
       " VIC   26360000  26407500  26315000  26482500\n",
       " WA     5625000   5752500   5512500   5262500"
      ]
     },
     "execution_count": 56,
     "metadata": {},
     "output_type": "execute_result"
    }
   ],
   "source": [
    "statewise_sales = sale_data.groupby([\"State\", \"Group\"])['Sales'].sum().unstack()\n",
    "statewise_sales"
   ]
  },
  {
   "cell_type": "code",
   "execution_count": null,
   "id": "d2f2b8d7-9448-4251-8c95-28126ee9cb41",
   "metadata": {},
   "outputs": [],
   "source": []
  },
  {
   "cell_type": "code",
   "execution_count": 61,
   "id": "68baa6b2-0804-4444-8d18-6c67a24881ae",
   "metadata": {},
   "outputs": [
    {
     "data": {
      "text/plain": [
       "Text(0, 0.5, 'Total Sales ($)')"
      ]
     },
     "execution_count": 61,
     "metadata": {},
     "output_type": "execute_result"
    },
    {
     "data": {
      "image/png": "[encoded data removed]",
      "text/plain": [
       "<Figure size 864x432 with 1 Axes>"
      ]
     },
     "metadata": {
      "needs_background": "light"
     },
     "output_type": "display_data"
    }
   ],
   "source": [
    "statewise_sales.plot(kind=\"bar\", figsize=(12, 6), colormap=\"viridis\", edgecolor=\"black\")\n",
    "plt.title(\"State-wise Sales Distribution by Demographic Group \")\n",
    "plt.xlabel(\"State\")\n",
    "plt.ylabel(\"Total Sales ($)\")\n"
   ]
  },
  {
   "cell_type": "code",
   "execution_count": 65,
   "id": "07bc17a1-dbfe-46d3-9069-a5afdea3d598",
   "metadata": {},
   "outputs": [
    {
     "data": {
      "text/html": [
       "<div>\n",
       "<style scoped>\n",
       "    .dataframe tbody tr th:only-of-type {\n",
       "        vertical-align: middle;\n",
       "    }\n",
       "\n",
       "    .dataframe tbody tr th {\n",
       "        vertical-align: top;\n",
       "    }\n",
       "\n",
       "    .dataframe thead th {\n",
       "        text-align: right;\n",
       "    }\n",
       "</style>\n",
       "<table border=\"1\" class=\"dataframe\">\n",
       "  <thead>\n",
       "    <tr style=\"text-align: right;\">\n",
       "      <th>State</th>\n",
       "      <th>NSW</th>\n",
       "      <th>NT</th>\n",
       "      <th>QLD</th>\n",
       "      <th>SA</th>\n",
       "      <th>TAS</th>\n",
       "      <th>VIC</th>\n",
       "      <th>WA</th>\n",
       "    </tr>\n",
       "    <tr>\n",
       "      <th>Group</th>\n",
       "      <th></th>\n",
       "      <th></th>\n",
       "      <th></th>\n",
       "      <th></th>\n",
       "      <th></th>\n",
       "      <th></th>\n",
       "      <th></th>\n",
       "    </tr>\n",
       "  </thead>\n",
       "  <tbody>\n",
       "    <tr>\n",
       "      <th>Kids</th>\n",
       "      <td>18587500</td>\n",
       "      <td>5700000</td>\n",
       "      <td>8510000</td>\n",
       "      <td>14515000</td>\n",
       "      <td>5775000</td>\n",
       "      <td>26360000</td>\n",
       "      <td>5625000</td>\n",
       "    </tr>\n",
       "    <tr>\n",
       "      <th>Men</th>\n",
       "      <td>19022500</td>\n",
       "      <td>5762500</td>\n",
       "      <td>8392500</td>\n",
       "      <td>14655000</td>\n",
       "      <td>5757500</td>\n",
       "      <td>26407500</td>\n",
       "      <td>5752500</td>\n",
       "    </tr>\n",
       "    <tr>\n",
       "      <th>Seniors</th>\n",
       "      <td>18187500</td>\n",
       "      <td>5465000</td>\n",
       "      <td>8190000</td>\n",
       "      <td>14717500</td>\n",
       "      <td>5650000</td>\n",
       "      <td>26315000</td>\n",
       "      <td>5512500</td>\n",
       "    </tr>\n",
       "    <tr>\n",
       "      <th>Women</th>\n",
       "      <td>19172500</td>\n",
       "      <td>5652500</td>\n",
       "      <td>8325000</td>\n",
       "      <td>14970000</td>\n",
       "      <td>5577500</td>\n",
       "      <td>26482500</td>\n",
       "      <td>5262500</td>\n",
       "    </tr>\n",
       "  </tbody>\n",
       "</table>\n",
       "</div>"
      ],
      "text/plain": [
       "State          NSW       NT      QLD        SA      TAS       VIC       WA\n",
       "Group                                                                     \n",
       " Kids     18587500  5700000  8510000  14515000  5775000  26360000  5625000\n",
       " Men      19022500  5762500  8392500  14655000  5757500  26407500  5752500\n",
       " Seniors  18187500  5465000  8190000  14717500  5650000  26315000  5512500\n",
       " Women    19172500  5652500  8325000  14970000  5577500  26482500  5262500"
      ]
     },
     "execution_count": 65,
     "metadata": {},
     "output_type": "execute_result"
    }
   ],
   "source": [
    "groupwise_sales = sale_data.groupby([\"Group\", \"State\"])['Sales'].sum().unstack()\n",
    "groupwise_sales"
   ]
  },
  {
   "cell_type": "code",
   "execution_count": 67,
   "id": "fd5f78c2-a447-4cc5-964a-aee029dfb081",
   "metadata": {},
   "outputs": [
    {
     "data": {
      "text/plain": [
       "Text(0, 0.5, 'Total Sales ($)')"
      ]
     },
     "execution_count": 67,
     "metadata": {},
     "output_type": "execute_result"
    },
    {
     "data": {
      "image/png": "[encoded data removed]",
      "text/plain": [
       "<Figure size 864x432 with 1 Axes>"
      ]
     },
     "metadata": {
      "needs_background": "light"
     },
     "output_type": "display_data"
    }
   ],
   "source": [
    "groupwise_sales.plot(kind=\"bar\", figsize=(12, 6), colormap=\"viridis\", edgecolor=\"black\")\n",
    "plt.title(\"Group-wise Sales Distribution by Demographic Group \")\n",
    "plt.xlabel(\"Group\")\n",
    "plt.ylabel(\"Total Sales ($)\")\n"
   ]
  },
  {
   "cell_type": "code",
   "execution_count": 80,
   "id": "bb294c20-f5a2-4718-bdcb-59a2e98fbd87",
   "metadata": {},
   "outputs": [
    {
     "data": {
      "text/plain": [
       "Time\n",
       " Afternoon    114007500\n",
       " Evening      112087500\n",
       " Morning      114207500\n",
       "Name: Sales, dtype: int64"
      ]
     },
     "execution_count": 80,
     "metadata": {},
     "output_type": "execute_result"
    }
   ],
   "source": [
    "timewise_sales = sale_data.groupby(\"Time\")[\"Sales\"].sum()\n",
    "timewise_sales"
   ]
  },
  {
   "cell_type": "code",
   "execution_count": 87,
   "id": "3e0fd521-38b0-44c6-a75b-ee26ca881050",
   "metadata": {},
   "outputs": [
    {
     "data": {
      "text/plain": [
       "(array([0, 1, 2]),\n",
       " [Text(0, 0, ' Afternoon'), Text(1, 0, ' Evening'), Text(2, 0, ' Morning')])"
      ]
     },
     "execution_count": 87,
     "metadata": {},
     "output_type": "execute_result"
    },
    {
     "data": {
      "image/png": "[encoded data removed]",
      "text/plain": [
       "<Figure size 576x288 with 1 Axes>"
      ]
     },
     "metadata": {
      "needs_background": "light"
     },
     "output_type": "display_data"
    }
   ],
   "source": [
    "timewise_sales.plot(kind=\"bar\", figsize=(8, 4), color=\"orange\", edgecolor=\"black\")\n",
    "plt.title(\"Time-of-the-Day Sales Analysis\")\n",
    "plt.xlabel(\"Time of the Day\")\n",
    "plt.ylabel(\"Total Sales ($)\")\n",
    "plt.xticks(rotation=0)\n",
    "\n"
   ]
  },
  {
   "cell_type": "code",
   "execution_count": null,
   "id": "dc8d15bf-b90b-4b5c-9921-2f29ad3c6f07",
   "metadata": {},
   "outputs": [],
   "source": [
    "RECCOMENDATION :-\n",
    "1] Matplotlib allows for clear, high-quality bar charts, which are suitable for comparing sales across states and different times of the day, helping S&M teams for effective decision\n",
    "making .\n",
    "2] Matplotlib integrates well with Pandas for easy data manipulation ."
   ]
  }
 ],
 "metadata": {
  "kernelspec": {
   "display_name": "Python 3 [3.10]",
   "language": "python",
   "name": "python3"
  },
  "language_info": {
   "codemirror_mode": {
    "name": "ipython",
    "version": 3
   },
   "file_extension": ".py",
   "mimetype": "text/x-python",
   "name": "python",
   "nbconvert_exporter": "python",
   "pygments_lexer": "ipython3",
   "version": "3.10.2"
  }
 },
 "nbformat": 4,
 "nbformat_minor": 5
}
